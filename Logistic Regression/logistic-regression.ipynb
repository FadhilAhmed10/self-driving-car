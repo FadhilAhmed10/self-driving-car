{
 "cells": [
  {
   "cell_type": "code",
   "execution_count": 149,
   "metadata": {},
   "outputs": [],
   "source": [
    "import numpy as np\n",
    "import matplotlib.pyplot as plt"
   ]
  },
  {
   "cell_type": "code",
   "execution_count": 150,
   "metadata": {},
   "outputs": [],
   "source": [
    "def draw(x1, x2):\n",
    "    ln = plt.plot(x1, x2)\n",
    "\n",
    "def sigmoid(score):\n",
    "    return 1/(1 + np.exp(-score))\n",
    "\n",
    "def calculate_error(line_parameters, points, y):\n",
    "    m=points.shape[0]\n",
    "    p = sigmoid(points*line_parameters)\n",
    "    cross_entropy = (1/m)*(np.log(p).T * y + np.log(1-p).T * (1-y))\n",
    "    return cross_entropy\n"
   ]
  },
  {
   "cell_type": "code",
   "execution_count": 151,
   "metadata": {},
   "outputs": [
    {
     "data": {
      "text/plain": [
       "array([[13.52810469, 12.28808714,  1.        ],\n",
       "       [10.80031442, 14.90854701,  1.        ],\n",
       "       [11.95747597, 13.52207545,  1.        ],\n",
       "       [14.4817864 , 12.24335003,  1.        ],\n",
       "       [13.73511598, 12.88772647,  1.        ],\n",
       "       [ 8.04544424, 12.66734865,  1.        ],\n",
       "       [11.90017684, 14.98815815,  1.        ],\n",
       "       [ 9.69728558, 11.58968347,  1.        ],\n",
       "       [ 9.7935623 , 12.6261354 ,  1.        ],\n",
       "       [10.821197  , 10.29180852,  1.        ],\n",
       "       [-0.10597963,  6.30989485,  1.        ],\n",
       "       [ 6.30723719,  6.75632504,  1.        ],\n",
       "       [ 6.7288724 ,  4.2244285 ,  1.        ],\n",
       "       [ 3.51566996,  2.03840706,  1.        ],\n",
       "       [ 9.53950925,  5.3041757 ,  1.        ],\n",
       "       [ 2.09126865,  6.31269794,  1.        ],\n",
       "       [ 5.09151703,  8.46058136,  1.        ],\n",
       "       [ 4.6256323 ,  8.4047597 ,  1.        ],\n",
       "       [ 8.06555843,  5.22534637,  1.        ],\n",
       "       [ 7.93871754,  5.3953945 ,  1.        ]])"
      ]
     },
     "execution_count": 151,
     "metadata": {},
     "output_type": "execute_result"
    }
   ],
   "source": [
    "n_pts = 10\n",
    "np.random.seed(0)\n",
    "bias = np.ones(n_pts)\n",
    "top_region = np.array([np.random.normal(10, 2, n_pts), np.random.normal(12, 2, n_pts), bias]).T\n",
    "bottom_region = np.array([np.random.normal(5, 2, n_pts), np.random.normal(6, 2, n_pts), bias]).T\n",
    "all_pts = np.vstack((top_region, bottom_region))\n",
    "all_pts"
   ]
  },
  {
   "cell_type": "code",
   "execution_count": 152,
   "metadata": {},
   "outputs": [],
   "source": [
    "w1 = -0.2\n",
    "w2 = -0.35\n",
    "b = 3.5\n",
    "line_parameters = np.matrix([w1, w2, b]).T\n",
    "x1 = np.array([bottom_region[:, 0].min(), top_region[:, 0].max() ])\n",
    "x2 = -b / w2 + x1 * (-w1 / w2) #y = w1 * x1 + w2 * x2 + b\n",
    "linear_combination = all_pts*line_parameters\n",
    "probabilities = sigmoid(linear_combination)\n",
    "y = np.array([np.zeros(n_pts), np.ones(n_pts)]).reshape(n_pts*2,1)"
   ]
  },
  {
   "cell_type": "code",
   "execution_count": 153,
   "metadata": {},
   "outputs": [
    {
     "data": {
      "image/png": "[encoded data removed]",
      "text/plain": [
       "<Figure size 400x400 with 1 Axes>"
      ]
     },
     "metadata": {},
     "output_type": "display_data"
    }
   ],
   "source": [
    "_, ax = plt.subplots(figsize = (4, 4))\n",
    "ax.scatter(top_region[:, 0], top_region[:, 1], color='r')\n",
    "ax.scatter(bottom_region[:, 0], bottom_region[:, 1], color='b')\n",
    "draw(x1,x2)\n",
    "# print(x1,x2)\n",
    "# plt.plot(x1, x2)\n",
    "# for i,j in zip(x1, x2):\n",
    "#     ax.annotate('%s)' %j, xy=(i,j), xytext=(30,0), textcoords='offset points')\n",
    "#     ax.annotate('(%s,' %i, xy=(i,j))\n",
    "plt.show()"
   ]
  },
  {
   "cell_type": "code",
   "execution_count": 154,
   "metadata": {},
   "outputs": [
    {
     "data": {
      "text/plain": [
       "matrix([[-0.31787835]])"
      ]
     },
     "execution_count": 154,
     "metadata": {},
     "output_type": "execute_result"
    }
   ],
   "source": [
    "calculate_error(line_parameters, all_pts, y)"
   ]
  }
 ],
 "metadata": {
  "kernelspec": {
   "display_name": "Python 3",
   "language": "python",
   "name": "python3"
  },
  "language_info": {
   "codemirror_mode": {
    "name": "ipython",
    "version": 3
   },
   "file_extension": ".py",
   "mimetype": "text/x-python",
   "name": "python",
   "nbconvert_exporter": "python",
   "pygments_lexer": "ipython3",
   "version": "3.13.1"
  }
 },
 "nbformat": 4,
 "nbformat_minor": 2
}
